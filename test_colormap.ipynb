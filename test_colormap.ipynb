{
  "nbformat": 4,
  "nbformat_minor": 0,
  "metadata": {
    "colab": {
      "name": "test_colormap",
      "provenance": [],
      "collapsed_sections": []
    },
    "kernelspec": {
      "name": "python3",
      "display_name": "Python 3"
    }
  },
  "cells": [
    {
      "cell_type": "code",
      "metadata": {
        "id": "o1vTj6J-YIsj"
      },
      "source": [
        "import numpy as np"
      ],
      "execution_count": 6,
      "outputs": []
    },
    {
      "cell_type": "code",
      "metadata": {
        "id": "raCWNto4Yefb"
      },
      "source": [
        "X = np.linspace(-10, 10, 10)\n",
        "Y = np.linspace(-10, 10, 10)"
      ],
      "execution_count": 22,
      "outputs": []
    },
    {
      "cell_type": "code",
      "metadata": {
        "id": "G4LYWhylYsBs"
      },
      "source": [
        "h = 0.01\n",
        "x_min = min(X)\n",
        "y_min = min(Y)\n",
        "x_max = max(X)\n",
        "y_max = max(Y)"
      ],
      "execution_count": 59,
      "outputs": []
    },
    {
      "cell_type": "code",
      "metadata": {
        "id": "jRJhd0wVY2eu"
      },
      "source": [
        "xx, yy = np.meshgrid(np.arange(x_min, x_max, h), np.arange(y_min, y_max, h))"
      ],
      "execution_count": 60,
      "outputs": []
    },
    {
      "cell_type": "code",
      "metadata": {
        "colab": {
          "base_uri": "https://localhost:8080/"
        },
        "id": "Wq4oSCcTY4Gy",
        "outputId": "b6f4ccd4-fe48-4ebb-efc7-314d44d42577"
      },
      "source": [
        "xx.shape, yy.shape"
      ],
      "execution_count": 66,
      "outputs": [
        {
          "output_type": "execute_result",
          "data": {
            "text/plain": [
              "((2000, 2000), (2000, 2000))"
            ]
          },
          "metadata": {
            "tags": []
          },
          "execution_count": 66
        }
      ]
    },
    {
      "cell_type": "code",
      "metadata": {
        "id": "6l7Yg1PJY4um"
      },
      "source": [
        "f = lambda x, y: x * y"
      ],
      "execution_count": 67,
      "outputs": []
    },
    {
      "cell_type": "code",
      "metadata": {
        "id": "xLwTehEPZM8F"
      },
      "source": [
        "Z = f(xx, yy)"
      ],
      "execution_count": 63,
      "outputs": []
    },
    {
      "cell_type": "code",
      "metadata": {
        "colab": {
          "base_uri": "https://localhost:8080/",
          "height": 265
        },
        "id": "56GDs_YNZOuu",
        "outputId": "f44aaef3-0df5-4759-ef76-2d1469ce08bf"
      },
      "source": [
        "import matplotlib.pyplot as plt\n",
        "plt.contourf(xx, yy, Z)\n",
        "plt.show()"
      ],
      "execution_count": 64,
      "outputs": [
        {
          "output_type": "display_data",
          "data": {
            "image/png": "[encoded data removed]",
            "text/plain": [
              "<Figure size 432x288 with 1 Axes>"
            ]
          },
          "metadata": {
            "tags": [],
            "needs_background": "light"
          }
        }
      ]
    },
    {
      "cell_type": "code",
      "metadata": {
        "colab": {
          "base_uri": "https://localhost:8080/",
          "height": 269
        },
        "id": "q7uJoL-UZRES",
        "outputId": "f24f0555-ce2d-49ff-c142-0eab08958c83"
      },
      "source": [
        "import matplotlib.pyplot as plt\n",
        "\n",
        "plt.contourf(xx, yy, Z, cmap=plt.cm.RdBu)\n",
        "plt.axis('square')\n",
        "plt.xlim([x_min, x_max])\n",
        "plt.ylim([y_min, y_max])\n",
        "plt.colorbar()\n",
        "plt.show()"
      ],
      "execution_count": 65,
      "outputs": [
        {
          "output_type": "display_data",
          "data": {
            "image/png": "[encoded data removed]",
            "text/plain": [
              "<Figure size 432x288 with 2 Axes>"
            ]
          },
          "metadata": {
            "tags": [],
            "needs_background": "light"
          }
        }
      ]
    },
    {
      "cell_type": "code",
      "metadata": {
        "colab": {
          "base_uri": "https://localhost:8080/"
        },
        "id": "nFgavs0GdZ7B",
        "outputId": "7f49822e-4ab7-480c-8f2f-4ccad1a98b38"
      },
      "source": [
        "xx.ravel()"
      ],
      "execution_count": 80,
      "outputs": [
        {
          "output_type": "execute_result",
          "data": {
            "text/plain": [
              "array([-10.  ,  -9.99,  -9.98, ...,   9.97,   9.98,   9.99])"
            ]
          },
          "metadata": {
            "tags": []
          },
          "execution_count": 80
        }
      ]
    },
    {
      "cell_type": "code",
      "metadata": {
        "colab": {
          "base_uri": "https://localhost:8080/"
        },
        "id": "9GWxbC3qaSR6",
        "outputId": "af19c3c5-5bed-424c-81b5-d0d2a1c1c290"
      },
      "source": [
        "np.c_[xx.ravel(), yy.ravel()]"
      ],
      "execution_count": 69,
      "outputs": [
        {
          "output_type": "execute_result",
          "data": {
            "text/plain": [
              "array([[-10.  , -10.  ],\n",
              "       [ -9.99, -10.  ],\n",
              "       [ -9.98, -10.  ],\n",
              "       ...,\n",
              "       [  9.97,   9.99],\n",
              "       [  9.98,   9.99],\n",
              "       [  9.99,   9.99]])"
            ]
          },
          "metadata": {
            "tags": []
          },
          "execution_count": 69
        }
      ]
    },
    {
      "cell_type": "code",
      "metadata": {
        "id": "ir67V_6DclMe"
      },
      "source": [
        "g = lambda W: np.array([w[0] * w[1] for w in W])"
      ],
      "execution_count": 77,
      "outputs": []
    },
    {
      "cell_type": "code",
      "metadata": {
        "colab": {
          "base_uri": "https://localhost:8080/"
        },
        "id": "KS4X2rP7cQH8",
        "outputId": "9f9bff6c-c20a-4953-e147-985b91de8b0b"
      },
      "source": [
        "Z = g(np.c_[xx.ravel(), yy.ravel()]).reshape(xx.shape)\n",
        "Z"
      ],
      "execution_count": 78,
      "outputs": [
        {
          "output_type": "execute_result",
          "data": {
            "text/plain": [
              "array([[100.    ,  99.9   ,  99.8   , ..., -99.7   , -99.8   , -99.9   ],\n",
              "       [ 99.9   ,  99.8001,  99.7002, ..., -99.6003, -99.7002, -99.8001],\n",
              "       [ 99.8   ,  99.7002,  99.6004, ..., -99.5006, -99.6004, -99.7002],\n",
              "       ...,\n",
              "       [-99.7   , -99.6003, -99.5006, ...,  99.4009,  99.5006,  99.6003],\n",
              "       [-99.8   , -99.7002, -99.6004, ...,  99.5006,  99.6004,  99.7002],\n",
              "       [-99.9   , -99.8001, -99.7002, ...,  99.6003,  99.7002,  99.8001]])"
            ]
          },
          "metadata": {
            "tags": []
          },
          "execution_count": 78
        }
      ]
    },
    {
      "cell_type": "code",
      "metadata": {
        "colab": {
          "base_uri": "https://localhost:8080/",
          "height": 269
        },
        "id": "fAAQRyuzchij",
        "outputId": "cd35c328-8f57-499a-b3f7-c54d30f5968a"
      },
      "source": [
        "import matplotlib.pyplot as plt\n",
        "\n",
        "plt.contourf(xx, yy, Z, cmap=plt.cm.RdBu)\n",
        "plt.axis('square')\n",
        "plt.xlim([x_min, x_max])\n",
        "plt.ylim([y_min, y_max])\n",
        "plt.colorbar()\n",
        "plt.show()"
      ],
      "execution_count": 79,
      "outputs": [
        {
          "output_type": "display_data",
          "data": {
            "image/png": "[encoded data removed]",
            "text/plain": [
              "<Figure size 432x288 with 2 Axes>"
            ]
          },
          "metadata": {
            "tags": [],
            "needs_background": "light"
          }
        }
      ]
    },
    {
      "cell_type": "code",
      "metadata": {
        "id": "CMSi5b2OdT2E"
      },
      "source": [
        ""
      ],
      "execution_count": null,
      "outputs": []
    }
  ]
}