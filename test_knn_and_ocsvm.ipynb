{
  "nbformat": 4,
  "nbformat_minor": 0,
  "metadata": {
    "colab": {
      "name": "test_knn_and_ocsvm",
      "provenance": [],
      "collapsed_sections": []
    },
    "kernelspec": {
      "name": "python3",
      "display_name": "Python 3"
    }
  },
  "cells": [
    {
      "cell_type": "code",
      "metadata": {
        "id": "lhJhYwDlgznk"
      },
      "source": [
        "import numpy as np\n",
        "\n",
        "X = np.concatenate([np.random.normal(20, 10, (10, 1)), np.random.normal(80, 10, (10, 1))])"
      ],
      "execution_count": 101,
      "outputs": []
    },
    {
      "cell_type": "code",
      "metadata": {
        "colab": {
          "base_uri": "https://localhost:8080/"
        },
        "id": "Ytew5lUMi_Oe",
        "outputId": "fa8cca74-e917-4390-b91d-168f3dced5ff"
      },
      "source": [
        "print(X)"
      ],
      "execution_count": 102,
      "outputs": [
        {
          "output_type": "stream",
          "text": [
            "[[ 20.75171836]\n",
            " [ 12.5148424 ]\n",
            " [ 20.09727351]\n",
            " [ 21.81124899]\n",
            " [ 25.6481672 ]\n",
            " [ 24.72150424]\n",
            " [ 10.469643  ]\n",
            " [ 24.54124228]\n",
            " [ 25.57728973]\n",
            " [ 25.28482888]\n",
            " [ 89.32067953]\n",
            " [ 77.92231808]\n",
            " [ 64.32990165]\n",
            " [ 72.46108133]\n",
            " [ 83.30708404]\n",
            " [ 83.80219793]\n",
            " [100.52152935]\n",
            " [ 78.77635269]\n",
            " [ 69.2217132 ]\n",
            " [ 85.13585103]]\n"
          ],
          "name": "stdout"
        }
      ]
    },
    {
      "cell_type": "code",
      "metadata": {
        "colab": {
          "base_uri": "https://localhost:8080/",
          "height": 265
        },
        "id": "Aamu6j7bhIiJ",
        "outputId": "3ab7412b-bf97-48aa-98f1-360d2a6246f3"
      },
      "source": [
        "import matplotlib.pyplot as plt\n",
        "\n",
        "plt.plot(X)\n",
        "plt.show()"
      ],
      "execution_count": 103,
      "outputs": [
        {
          "output_type": "display_data",
          "data": {
            "image/png": "[encoded data removed]",
            "text/plain": [
              "<Figure size 432x288 with 1 Axes>"
            ]
          },
          "metadata": {
            "tags": [],
            "needs_background": "light"
          }
        }
      ]
    },
    {
      "cell_type": "code",
      "metadata": {
        "colab": {
          "base_uri": "https://localhost:8080/",
          "height": 265
        },
        "id": "WshGWPTXhpe0",
        "outputId": "46f87b5c-0697-4619-8fc4-205f44bb4eb0"
      },
      "source": [
        "import matplotlib.pyplot as plt\n",
        "\n",
        "plt.hist(X)\n",
        "plt.show()"
      ],
      "execution_count": 104,
      "outputs": [
        {
          "output_type": "display_data",
          "data": {
            "image/png": "[encoded data removed]",
            "text/plain": [
              "<Figure size 432x288 with 1 Axes>"
            ]
          },
          "metadata": {
            "tags": [],
            "needs_background": "light"
          }
        }
      ]
    },
    {
      "cell_type": "code",
      "metadata": {
        "colab": {
          "base_uri": "https://localhost:8080/",
          "height": 265
        },
        "id": "AZa78dqTnRjW",
        "outputId": "a36d0705-ae2f-481b-ce09-d3d07d77f322"
      },
      "source": [
        "plt.scatter(X, [-0.5 for x in X], alpha=0.5)\n",
        "plt.hist(X)\n",
        "plt.show()"
      ],
      "execution_count": 105,
      "outputs": [
        {
          "output_type": "display_data",
          "data": {
            "image/png": "[encoded data removed]",
            "text/plain": [
              "<Figure size 432x288 with 1 Axes>"
            ]
          },
          "metadata": {
            "tags": [],
            "needs_background": "light"
          }
        }
      ]
    },
    {
      "cell_type": "code",
      "metadata": {
        "colab": {
          "base_uri": "https://localhost:8080/"
        },
        "id": "F0SQLta0h9mu",
        "outputId": "ad837c96-3a35-44bf-e798-5036ff77f54f"
      },
      "source": [
        "from sklearn.neighbors import NearestNeighbors\n",
        "\n",
        "n_neighbors = 3\n",
        "model = NearestNeighbors(n_neighbors=n_neighbors)\n",
        "model.fit(X)"
      ],
      "execution_count": 106,
      "outputs": [
        {
          "output_type": "execute_result",
          "data": {
            "text/plain": [
              "NearestNeighbors(algorithm='auto', leaf_size=30, metric='minkowski',\n",
              "                 metric_params=None, n_jobs=None, n_neighbors=3, p=2,\n",
              "                 radius=1.0)"
            ]
          },
          "metadata": {
            "tags": []
          },
          "execution_count": 106
        }
      ]
    },
    {
      "cell_type": "code",
      "metadata": {
        "id": "FIsMmkR7iyJe"
      },
      "source": [
        "distances, indices = model.kneighbors(X)"
      ],
      "execution_count": 107,
      "outputs": []
    },
    {
      "cell_type": "code",
      "metadata": {
        "colab": {
          "base_uri": "https://localhost:8080/"
        },
        "id": "aXXZ8EpjjOEF",
        "outputId": "d1d954b2-70f7-4600-985e-4aec28d984d7"
      },
      "source": [
        "distances"
      ],
      "execution_count": 108,
      "outputs": [
        {
          "output_type": "execute_result",
          "data": {
            "text/plain": [
              "array([[ 0.        ,  0.65444485,  1.05953064],\n",
              "       [ 0.        ,  2.0451994 ,  7.5824311 ],\n",
              "       [ 0.        ,  0.65444485,  1.71397549],\n",
              "       [ 0.        ,  1.05953064,  1.71397549],\n",
              "       [ 0.        ,  0.07087746,  0.36333832],\n",
              "       [ 0.        ,  0.18026196,  0.56332464],\n",
              "       [ 0.        ,  2.0451994 ,  9.62763051],\n",
              "       [ 0.        ,  0.18026196,  0.7435866 ],\n",
              "       [ 0.        ,  0.07087746,  0.29246085],\n",
              "       [ 0.        ,  0.29246085,  0.36333832],\n",
              "       [ 0.        ,  4.1848285 ,  5.5184816 ],\n",
              "       [ 0.        ,  0.85403461,  5.38476596],\n",
              "       [ 0.        ,  4.89181156,  8.13117968],\n",
              "       [ 0.        ,  3.23936813,  5.46123675],\n",
              "       [ 0.        ,  0.49511389,  1.82876699],\n",
              "       [ 0.        ,  0.49511389,  1.3336531 ],\n",
              "       [ 0.        , 11.20084982, 15.38567832],\n",
              "       [ 0.        ,  0.85403461,  4.53073135],\n",
              "       [ 0.        ,  3.23936813,  4.89181156],\n",
              "       [ 0.        ,  1.3336531 ,  1.82876699]])"
            ]
          },
          "metadata": {
            "tags": []
          },
          "execution_count": 108
        }
      ]
    },
    {
      "cell_type": "code",
      "metadata": {
        "colab": {
          "base_uri": "https://localhost:8080/"
        },
        "id": "n9QuQCfSjbOV",
        "outputId": "5acc2bcf-fe40-48a2-ccf0-dc69e64c7650"
      },
      "source": [
        "indices"
      ],
      "execution_count": 109,
      "outputs": [
        {
          "output_type": "execute_result",
          "data": {
            "text/plain": [
              "array([[ 0,  2,  3],\n",
              "       [ 1,  6,  2],\n",
              "       [ 2,  0,  3],\n",
              "       [ 3,  0,  2],\n",
              "       [ 4,  8,  9],\n",
              "       [ 5,  7,  9],\n",
              "       [ 6,  1,  2],\n",
              "       [ 7,  5,  9],\n",
              "       [ 8,  4,  9],\n",
              "       [ 9,  8,  4],\n",
              "       [10, 19, 15],\n",
              "       [11, 17, 14],\n",
              "       [12, 18, 13],\n",
              "       [13, 18, 11],\n",
              "       [14, 15, 19],\n",
              "       [15, 14, 19],\n",
              "       [16, 10, 19],\n",
              "       [17, 11, 14],\n",
              "       [18, 13, 12],\n",
              "       [19, 15, 14]])"
            ]
          },
          "metadata": {
            "tags": []
          },
          "execution_count": 109
        }
      ]
    },
    {
      "cell_type": "code",
      "metadata": {
        "colab": {
          "base_uri": "https://localhost:8080/"
        },
        "id": "ZOiB78Mnjs1J",
        "outputId": "1187ffa2-6c28-44b4-e6e0-fed88725d047"
      },
      "source": [
        "distances[:, n_neighbors - 1]"
      ],
      "execution_count": 110,
      "outputs": [
        {
          "output_type": "execute_result",
          "data": {
            "text/plain": [
              "array([ 1.05953064,  7.5824311 ,  1.71397549,  1.71397549,  0.36333832,\n",
              "        0.56332464,  9.62763051,  0.7435866 ,  0.29246085,  0.36333832,\n",
              "        5.5184816 ,  5.38476596,  8.13117968,  5.46123675,  1.82876699,\n",
              "        1.3336531 , 15.38567832,  4.53073135,  4.89181156,  1.82876699])"
            ]
          },
          "metadata": {
            "tags": []
          },
          "execution_count": 110
        }
      ]
    },
    {
      "cell_type": "code",
      "metadata": {
        "colab": {
          "base_uri": "https://localhost:8080/"
        },
        "id": "ZMTdY1ETkSU-",
        "outputId": "c85c8b36-2930-4965-f4ae-e39fc6e73383"
      },
      "source": [
        "sorted(distances[:, n_neighbors - 1])"
      ],
      "execution_count": 111,
      "outputs": [
        {
          "output_type": "execute_result",
          "data": {
            "text/plain": [
              "[0.292460853825105,\n",
              " 0.363338316311566,\n",
              " 0.363338316311566,\n",
              " 0.5633246362170858,\n",
              " 0.7435866008339431,\n",
              " 1.0595306364584722,\n",
              " 1.3336530961538102,\n",
              " 1.7139754882638485,\n",
              " 1.7139754882638485,\n",
              " 1.8287669880534594,\n",
              " 1.8287669880534594,\n",
              " 4.530731347327446,\n",
              " 4.891811555946603,\n",
              " 5.384765959651958,\n",
              " 5.461236748760513,\n",
              " 5.518481596027172,\n",
              " 7.58243110342551,\n",
              " 8.131179680971542,\n",
              " 9.627630506488126,\n",
              " 15.385678321492605]"
            ]
          },
          "metadata": {
            "tags": []
          },
          "execution_count": 111
        }
      ]
    },
    {
      "cell_type": "code",
      "metadata": {
        "colab": {
          "base_uri": "https://localhost:8080/"
        },
        "id": "Ix3M7cPJkajl",
        "outputId": "cee3c2a7-37a3-4dc5-da22-2ea153d06779"
      },
      "source": [
        "out = 0.2\n",
        "int((len(X) - 1) * (1 - out))"
      ],
      "execution_count": 113,
      "outputs": [
        {
          "output_type": "execute_result",
          "data": {
            "text/plain": [
              "15"
            ]
          },
          "metadata": {
            "tags": []
          },
          "execution_count": 113
        }
      ]
    },
    {
      "cell_type": "code",
      "metadata": {
        "colab": {
          "base_uri": "https://localhost:8080/"
        },
        "id": "wBGd4_0gkuGA",
        "outputId": "1f1d0135-9d08-41ed-a55e-04cbae0d6d61"
      },
      "source": [
        "out = 0.2\n",
        "threshold = sorted(distances[:, n_neighbors - 1])[int((len(X) - 1) * (1 - out))]\n",
        "threshold"
      ],
      "execution_count": 115,
      "outputs": [
        {
          "output_type": "execute_result",
          "data": {
            "text/plain": [
              "5.518481596027172"
            ]
          },
          "metadata": {
            "tags": []
          },
          "execution_count": 115
        }
      ]
    },
    {
      "cell_type": "code",
      "metadata": {
        "id": "PCv-5JaDk5eI"
      },
      "source": [
        "def transform(x):\n",
        "    distances, indices = model.kneighbors(x)\n",
        "    return distances[:, n_neighbors - 1]"
      ],
      "execution_count": 116,
      "outputs": []
    },
    {
      "cell_type": "code",
      "metadata": {
        "id": "CdcYyodZmCl6"
      },
      "source": [
        "x_latent = np.linspace(0, 100, 101).reshape(101, 1)"
      ],
      "execution_count": 117,
      "outputs": []
    },
    {
      "cell_type": "code",
      "metadata": {
        "colab": {
          "base_uri": "https://localhost:8080/",
          "height": 265
        },
        "id": "JRvDiZyemM05",
        "outputId": "8beb879e-7076-40ca-beff-0aa349d2e838"
      },
      "source": [
        "plt.plot(x_latent, transform(x_latent))\n",
        "plt.plot([0, 100], [threshold, threshold])\n",
        "plt.scatter(X, [-0.5 for x in X], alpha=0.5)\n",
        "plt.show()"
      ],
      "execution_count": 119,
      "outputs": [
        {
          "output_type": "display_data",
          "data": {
            "image/png": "[encoded data removed]",
            "text/plain": [
              "<Figure size 432x288 with 1 Axes>"
            ]
          },
          "metadata": {
            "tags": [],
            "needs_background": "light"
          }
        }
      ]
    },
    {
      "cell_type": "code",
      "metadata": {
        "colab": {
          "base_uri": "https://localhost:8080/"
        },
        "id": "MFeE_4I5mWQM",
        "outputId": "97628ec6-7a98-46c0-9bd0-ed04c6037a2a"
      },
      "source": [
        "from sklearn.svm import OneClassSVM\n",
        "\n",
        "model = OneClassSVM()\n",
        "model.fit(X)"
      ],
      "execution_count": 120,
      "outputs": [
        {
          "output_type": "execute_result",
          "data": {
            "text/plain": [
              "OneClassSVM(cache_size=200, coef0=0.0, degree=3, gamma='scale', kernel='rbf',\n",
              "            max_iter=-1, nu=0.5, shrinking=True, tol=0.001, verbose=False)"
            ]
          },
          "metadata": {
            "tags": []
          },
          "execution_count": 120
        }
      ]
    },
    {
      "cell_type": "code",
      "metadata": {
        "colab": {
          "base_uri": "https://localhost:8080/"
        },
        "id": "IIkZsAk0p8Xy",
        "outputId": "4fee847e-61cf-479e-b659-df4d94ed2475"
      },
      "source": [
        "score = model.decision_function(X)\n",
        "score"
      ],
      "execution_count": 121,
      "outputs": [
        {
          "output_type": "execute_result",
          "data": {
            "text/plain": [
              "array([ 8.92465609e-03, -3.02868060e-01,  2.17041910e-04,  1.74354569e-02,\n",
              "       -5.03609251e-03,  7.48946979e-03, -4.47230183e-01,  9.43240536e-03,\n",
              "       -3.93200969e-03,  3.71794320e-04, -2.40044114e-01,  7.61273222e-02,\n",
              "       -2.76348055e-01, -2.94366299e-04,  1.32090921e-02, -2.94462081e-04,\n",
              "       -1.15702272e+00,  7.60775219e-02, -9.54251920e-02, -4.32865920e-02])"
            ]
          },
          "metadata": {
            "tags": []
          },
          "execution_count": 121
        }
      ]
    },
    {
      "cell_type": "code",
      "metadata": {
        "colab": {
          "base_uri": "https://localhost:8080/"
        },
        "id": "TP8Iw-aCqAkx",
        "outputId": "aee8f431-2d0a-466b-a64d-cde413441386"
      },
      "source": [
        "sorted(score)"
      ],
      "execution_count": 122,
      "outputs": [
        {
          "output_type": "execute_result",
          "data": {
            "text/plain": [
              "[-1.1570227225254408,\n",
              " -0.447230183106222,\n",
              " -0.30286805991985855,\n",
              " -0.27634805498651005,\n",
              " -0.24004411384425062,\n",
              " -0.09542519199123145,\n",
              " -0.04328659196363738,\n",
              " -0.005036092513797108,\n",
              " -0.003932009693181193,\n",
              " -0.0002944620810989562,\n",
              " -0.000294366299088189,\n",
              " 0.0002170419098881382,\n",
              " 0.00037179432008915825,\n",
              " 0.00748946978528231,\n",
              " 0.008924656092618832,\n",
              " 0.009432405362153062,\n",
              " 0.013209092097701713,\n",
              " 0.017435456884351552,\n",
              " 0.07607752185616867,\n",
              " 0.0761273221584906]"
            ]
          },
          "metadata": {
            "tags": []
          },
          "execution_count": 122
        }
      ]
    },
    {
      "cell_type": "code",
      "metadata": {
        "colab": {
          "base_uri": "https://localhost:8080/"
        },
        "id": "b-knvwKbqCeM",
        "outputId": "2342eb2e-5c4c-48da-ffe3-2da51bc6371c"
      },
      "source": [
        "out = 0.2\n",
        "int((len(X) - 1) * out)"
      ],
      "execution_count": 125,
      "outputs": [
        {
          "output_type": "execute_result",
          "data": {
            "text/plain": [
              "3"
            ]
          },
          "metadata": {
            "tags": []
          },
          "execution_count": 125
        }
      ]
    },
    {
      "cell_type": "code",
      "metadata": {
        "colab": {
          "base_uri": "https://localhost:8080/"
        },
        "id": "55jx6_lAqFf3",
        "outputId": "05165cf0-a258-4c76-eea9-6465d548b18e"
      },
      "source": [
        "out = 0.2\n",
        "threshold = sorted(score)[int((len(X) - 1) * out)]\n",
        "threshold"
      ],
      "execution_count": 126,
      "outputs": [
        {
          "output_type": "execute_result",
          "data": {
            "text/plain": [
              "-0.27634805498651005"
            ]
          },
          "metadata": {
            "tags": []
          },
          "execution_count": 126
        }
      ]
    },
    {
      "cell_type": "code",
      "metadata": {
        "colab": {
          "base_uri": "https://localhost:8080/",
          "height": 265
        },
        "id": "saxVjEZDqU7q",
        "outputId": "67c42553-c82e-4ef5-eae2-543de9504fa1"
      },
      "source": [
        "plt.plot(x_latent, model.decision_function(x_latent))\n",
        "plt.plot([0, 100], [threshold, threshold])\n",
        "plt.scatter(X, [1 for x in X], alpha=0.5)\n",
        "plt.show()"
      ],
      "execution_count": 127,
      "outputs": [
        {
          "output_type": "display_data",
          "data": {
            "image/png": "[encoded data removed]",
            "text/plain": [
              "<Figure size 432x288 with 1 Axes>"
            ]
          },
          "metadata": {
            "tags": [],
            "needs_background": "light"
          }
        }
      ]
    },
    {
      "cell_type": "code",
      "metadata": {
        "id": "Q7S0jvxKqXPk"
      },
      "source": [
        ""
      ],
      "execution_count": null,
      "outputs": []
    }
  ]
}